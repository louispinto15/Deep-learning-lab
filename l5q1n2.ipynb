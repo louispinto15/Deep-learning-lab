{
 "cells": [
  {
   "cell_type": "code",
   "execution_count": 1,
   "id": "be0b58bc-4baa-481c-8239-e069d7fe97b4",
   "metadata": {},
   "outputs": [],
   "source": [
    "import torch \n",
    "import matplotlib.pyplot as plt\n",
    "import torch.nn.functional as F"
   ]
  },
  {
   "cell_type": "code",
   "execution_count": 13,
   "id": "15f2b45e-2a9c-48e8-bc20-019449709ed9",
   "metadata": {},
   "outputs": [
    {
     "name": "stdout",
     "output_type": "stream",
     "text": [
      "torch.Size([1, 6, 6])\n"
     ]
    },
    {
     "data": {
      "image/png": "[encoded data removed]",
      "text/plain": [
       "<Figure size 640x480 with 1 Axes>"
      ]
     },
     "metadata": {},
     "output_type": "display_data"
    }
   ],
   "source": [
    "image = torch.rand(6,6)\n",
    "plt.imshow(image)\n",
    "image = image.unsqueeze(dim=0)\n",
    "print(image.shape)"
   ]
  },
  {
   "cell_type": "code",
   "execution_count": 3,
   "id": "89650acf-cc02-47b9-9c31-38929d364e9d",
   "metadata": {},
   "outputs": [
    {
     "name": "stdout",
     "output_type": "stream",
     "text": [
      "torch.Size([1, 2, 2])\n",
      "torch.Size([1, 1, 1])\n",
      "torch.Size([1, 1, 1])\n"
     ]
    }
   ],
   "source": [
    "kernel = torch.ones(5,5).unsqueeze(dim = 0).unsqueeze(dim = 0)\n",
    "outimage = F.conv2d(image, kernel,stride = 1, padding = 0)\n",
    "print(outimage.shape)\n",
    "outimage = F.conv2d(image, kernel,stride = 2, padding = 0)\n",
    "print(outimage.shape)\n",
    "outimage = F.conv2d(image, kernel,stride = 3, padding = 0)\n",
    "print(outimage.shape)"
   ]
  },
  {
   "cell_type": "code",
   "execution_count": 4,
   "id": "7daee1e4-1803-4db3-9911-4577261316fe",
   "metadata": {},
   "outputs": [
    {
     "name": "stdout",
     "output_type": "stream",
     "text": [
      "torch.Size([1, 4, 4])\n",
      "torch.Size([1, 6, 6])\n",
      "torch.Size([1, 8, 8])\n"
     ]
    }
   ],
   "source": [
    "outimage = F.conv2d(image, kernel,stride = 1, padding = 1)\n",
    "print(outimage.shape)\n",
    "outimage = F.conv2d(image, kernel,stride = 1, padding = 2)\n",
    "print(outimage.shape)\n",
    "outimage = F.conv2d(image, kernel,stride = 1, padding = 3)\n",
    "print(outimage.shape)"
   ]
  },
  {
   "cell_type": "code",
   "execution_count": null,
   "id": "9f6a5607-8e4d-4a7e-a4c9-4822706fff7c",
   "metadata": {},
   "outputs": [],
   "source": []
  }
 ],
 "metadata": {
  "kernelspec": {
   "display_name": "Python 3 (ipykernel)",
   "language": "python",
   "name": "python3"
  },
  "language_info": {
   "codemirror_mode": {
    "name": "ipython",
    "version": 3
   },
   "file_extension": ".py",
   "mimetype": "text/x-python",
   "name": "python",
   "nbconvert_exporter": "python",
   "pygments_lexer": "ipython3",
   "version": "3.11.7"
  }
 },
 "nbformat": 4,
 "nbformat_minor": 5
}
